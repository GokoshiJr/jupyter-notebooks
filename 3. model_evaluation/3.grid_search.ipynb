{
 "cells": [
  {
   "cell_type": "code",
   "execution_count": 3,
   "id": "0871c962",
   "metadata": {
    "ExecuteTime": {
     "end_time": "2023-07-12T15:18:15.415743Z",
     "start_time": "2023-07-12T15:18:15.407573Z"
    }
   },
   "outputs": [],
   "source": [
    "import numpy as np\n",
    "import pandas as pd\n",
    "from sklearn.model_selection import train_test_split, GridSearchCV\n",
    "from sklearn import linear_model\n",
    "import matplotlib.pyplot as plt\n",
    "import seaborn as sns\n",
    "from sklearn.preprocessing import PolynomialFeatures\n",
    "from sklearn.linear_model import Ridge"
   ]
  },
  {
   "cell_type": "code",
   "execution_count": 4,
   "id": "5f4cb0d3",
   "metadata": {
    "ExecuteTime": {
     "end_time": "2023-07-12T15:18:15.455434Z",
     "start_time": "2023-07-12T15:18:15.421747Z"
    }
   },
   "outputs": [
    {
     "name": "stdout",
     "output_type": "stream",
     "text": [
      "number of test samples : 40\n",
      "number of training samples: 157\n"
     ]
    }
   ],
   "source": [
    "# load the dataframe\n",
    "raw_dataset = pd.read_csv(\"../data/module_5_auto.csv\")\n",
    "# copy the dataset\n",
    "dataset = raw_dataset.copy()\n",
    "# select objetive columns\n",
    "# raw_dataset = raw_dataset.loc[:, ['highway-mpg', 'price']]\n",
    "dataset = dataset._get_numeric_data()\n",
    "# clean nan values\n",
    "dataset = dataset.dropna()\n",
    "# drop unknow columns\n",
    "dataset.pop('Unnamed: 0.2')\n",
    "dataset.pop('Unnamed: 0.1')\n",
    "dataset.pop('Unnamed: 0')\n",
    "# training and testing\n",
    "dataset_labels = dataset[\"price\"]\n",
    "dataset_features = dataset.drop(\"price\", axis=1)\n",
    "train_features, test_features, train_labels, test_labels = train_test_split(\n",
    "    dataset_features, \n",
    "    dataset_labels, \n",
    "    test_size=0.2,\n",
    "    random_state=1\n",
    ")\n",
    "print(\"number of test samples :\", test_features.shape[0])\n",
    "print(\"number of training samples:\", train_features.shape[0])"
   ]
  },
  {
   "cell_type": "code",
   "execution_count": 21,
   "id": "059f2afb",
   "metadata": {
    "ExecuteTime": {
     "end_time": "2023-07-12T15:34:21.446055Z",
     "start_time": "2023-07-12T15:34:21.266919Z"
    },
    "scrolled": false
   },
   "outputs": [
    {
     "name": "stdout",
     "output_type": "stream",
     "text": [
      "Ridge(alpha=100)\n",
      "0.7887990939490865\n"
     ]
    }
   ],
   "source": [
    "parameters = [{'alpha': [0.001, 0.1, 1, 10, 100]}]\n",
    "RR = Ridge()\n",
    "Grid_1 = GridSearchCV(RR, parameters, cv=4)\n",
    "Grid_1.fit(dataset_features[[\"horsepower\", \"curb-weight\", \"engine-size\", \"highway-mpg\"]], dataset_labels)\n",
    "\n",
    "BestRR = Grid_1.best_estimator_\n",
    "print(BestRR)\n",
    "print(BestRR.score(test_features[['horsepower', 'curb-weight', 'engine-size', 'highway-mpg']], test_labels))\n",
    "\n",
    "scores = Grid_1.cv_results_"
   ]
  }
 ],
 "metadata": {
  "kernelspec": {
   "display_name": "Python 3 (ipykernel)",
   "language": "python",
   "name": "python3"
  },
  "language_info": {
   "codemirror_mode": {
    "name": "ipython",
    "version": 3
   },
   "file_extension": ".py",
   "mimetype": "text/x-python",
   "name": "python",
   "nbconvert_exporter": "python",
   "pygments_lexer": "ipython3",
   "version": "3.11.2"
  },
  "varInspector": {
   "cols": {
    "lenName": 16,
    "lenType": 16,
    "lenVar": 40
   },
   "kernels_config": {
    "python": {
     "delete_cmd_postfix": "",
     "delete_cmd_prefix": "del ",
     "library": "var_list.py",
     "varRefreshCmd": "print(var_dic_list())"
    },
    "r": {
     "delete_cmd_postfix": ") ",
     "delete_cmd_prefix": "rm(",
     "library": "var_list.r",
     "varRefreshCmd": "cat(var_dic_list()) "
    }
   },
   "types_to_exclude": [
    "module",
    "function",
    "builtin_function_or_method",
    "instance",
    "_Feature"
   ],
   "window_display": false
  }
 },
 "nbformat": 4,
 "nbformat_minor": 5
}
