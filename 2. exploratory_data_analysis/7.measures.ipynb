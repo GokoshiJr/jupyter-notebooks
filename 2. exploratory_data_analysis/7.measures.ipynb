{
 "cells": [
  {
   "cell_type": "code",
   "execution_count": 12,
   "id": "aa417bb2",
   "metadata": {
    "ExecuteTime": {
     "end_time": "2023-07-10T15:47:36.034469Z",
     "start_time": "2023-07-10T15:47:36.026913Z"
    }
   },
   "outputs": [],
   "source": [
    "# When evaluating our models, not only do we want to visualize the results, \n",
    "# but we also want a quantitative measure to determine how accurate the model is.\n",
    "\n",
    "# Two very important measures that are often used in Statistics to determine \n",
    "# the accuracy of a model are:\n",
    "\n",
    "# R^2 / R-squared\n",
    "# Mean Squared Error (MSE)\n",
    "\n",
    "# R-squared\n",
    "\n",
    "# R squared, also known as the coefficient of determination, is a measure to indicate \n",
    "# how close the data is to the fitted regression line.\n",
    "\n",
    "# The value of the R-squared is the percentage of variation of the response variable (y) \n",
    "# that is explained by a linear model.\n",
    "\n",
    "# Mean Squared Error (MSE)\n",
    "\n",
    "# The Mean Squared Error measures the average of the squares of errors. \n",
    "# That is, the difference between actual value (y) and the estimated value (ŷ)."
   ]
  },
  {
   "cell_type": "code",
   "execution_count": 19,
   "id": "d45355e2",
   "metadata": {
    "ExecuteTime": {
     "end_time": "2023-07-10T15:51:49.888335Z",
     "start_time": "2023-07-10T15:51:49.883169Z"
    }
   },
   "outputs": [],
   "source": [
    "import numpy as np\n",
    "import pandas as pd\n",
    "from sklearn import linear_model\n",
    "import seaborn as sns\n",
    "import matplotlib.pyplot as plt\n",
    "from sklearn.metrics import mean_squared_error, r2_score"
   ]
  },
  {
   "cell_type": "code",
   "execution_count": 14,
   "id": "8d782260",
   "metadata": {
    "ExecuteTime": {
     "end_time": "2023-07-10T15:47:36.628615Z",
     "start_time": "2023-07-10T15:47:36.059528Z"
    }
   },
   "outputs": [],
   "source": [
    "# load de dataframe\n",
    "raw_dataset = pd.read_csv(\"https://cf-courses-data.s3.us.cloud-object-storage.appdomain.cloud/IBMDeveloperSkillsNetwork-DA0101EN-SkillsNetwork/labs/Data%20files/automobileEDA.csv\")\n",
    "# select objetives columns\n",
    "raw_dataset = raw_dataset.loc[:, ['highway-mpg', 'price']]\n",
    "# copy dataset\n",
    "dataset = raw_dataset.copy()\n",
    "# clean nan values\n",
    "dataset = dataset.dropna()\n",
    "# sample train dataset\n",
    "train_dataset = dataset.sample(frac=0.8, random_state=1)\n",
    "# sample test dataset\n",
    "test_dataset = dataset.drop(train_dataset.index)\n",
    "\n",
    "# features (independent variables)\n",
    "train_features = train_dataset.copy()\n",
    "test_features = test_dataset.copy()\n",
    "# labels (dependet variable)\n",
    "train_labels = train_features.pop('price')\n",
    "test_labels = test_features.pop('price')"
   ]
  },
  {
   "cell_type": "code",
   "execution_count": 16,
   "id": "a4a5a8b6",
   "metadata": {
    "ExecuteTime": {
     "end_time": "2023-07-10T15:48:32.962985Z",
     "start_time": "2023-07-10T15:48:32.939044Z"
    }
   },
   "outputs": [
    {
     "name": "stdout",
     "output_type": "stream",
     "text": [
      "The R-square is:  0.521090174566289\n"
     ]
    }
   ],
   "source": [
    "regr = linear_model.LinearRegression()\n",
    "\n",
    "regr.fit(train_features, train_labels)\n",
    "\n",
    "price_pred = regr.predict(test_features)\n",
    "\n",
    "print('The R-square is: ', regr.score(test_features, test_labels))\n",
    "\n",
    "# close to 1 is fine"
   ]
  },
  {
   "cell_type": "code",
   "execution_count": 17,
   "id": "6006c58c",
   "metadata": {
    "ExecuteTime": {
     "end_time": "2023-07-10T15:48:53.581613Z",
     "start_time": "2023-07-10T15:48:53.570703Z"
    }
   },
   "outputs": [
    {
     "name": "stdout",
     "output_type": "stream",
     "text": [
      "The output of the first four predicted value is:  [16306.03066416 17974.31114462 22145.01234576  4628.06730096]\n"
     ]
    }
   ],
   "source": [
    "Yhat = regr.predict(test_features)\n",
    "print('The output of the first four predicted value is: ', Yhat[0:4])"
   ]
  },
  {
   "cell_type": "code",
   "execution_count": 26,
   "id": "123ee91a",
   "metadata": {
    "ExecuteTime": {
     "end_time": "2023-07-10T15:55:05.938849Z",
     "start_time": "2023-07-10T15:55:05.930735Z"
    }
   },
   "outputs": [
    {
     "name": "stdout",
     "output_type": "stream",
     "text": [
      "The mean square error of price and predicted value is:  29640542.54717908\n"
     ]
    }
   ],
   "source": [
    "mse = mean_squared_error(test_labels, Yhat)\n",
    "print('The mean square error of price and predicted value is: ', mse)"
   ]
  },
  {
   "cell_type": "code",
   "execution_count": null,
   "id": "928c3886",
   "metadata": {},
   "outputs": [],
   "source": [
    "# decision making: determining a good model fit\n",
    "\n",
    "# Now that we have visualized the different models, and generated the R-squared and MSE values for the fits, how do we determine a good model fit?\n",
    "\n",
    "# What is a good R-squared value?\n",
    "# When comparing models, the model with the higher R-squared value is a better fit for the data.\n",
    "\n",
    "# What is a good MSE?\n",
    "# When comparing models, the model with the smallest MSE value is a better fit for the data.\n",
    "\n",
    "# Let's take a look at the values for the different models.\n",
    "# Simple Linear Regression: Using Highway-mpg as a Predictor Variable of Price.\n",
    "\n",
    "# R-squared: 0.49659118843391759\n",
    "# MSE: 3.16 x10^7\n",
    "# Multiple Linear Regression: Using Horsepower, Curb-weight, Engine-size, and Highway-mpg as Predictor Variables of Price.\n",
    "\n",
    "# R-squared: 0.80896354913783497\n",
    "# MSE: 1.2 x10^7\n",
    "# Polynomial Fit: Using Highway-mpg as a Predictor Variable of Price.\n",
    "\n",
    "# R-squared: 0.6741946663906514\n",
    "# MSE: 2.05 x 10^7"
   ]
  }
 ],
 "metadata": {
  "kernelspec": {
   "display_name": "Python 3 (ipykernel)",
   "language": "python",
   "name": "python3"
  },
  "language_info": {
   "codemirror_mode": {
    "name": "ipython",
    "version": 3
   },
   "file_extension": ".py",
   "mimetype": "text/x-python",
   "name": "python",
   "nbconvert_exporter": "python",
   "pygments_lexer": "ipython3",
   "version": "3.11.2"
  },
  "varInspector": {
   "cols": {
    "lenName": 16,
    "lenType": 16,
    "lenVar": 40
   },
   "kernels_config": {
    "python": {
     "delete_cmd_postfix": "",
     "delete_cmd_prefix": "del ",
     "library": "var_list.py",
     "varRefreshCmd": "print(var_dic_list())"
    },
    "r": {
     "delete_cmd_postfix": ") ",
     "delete_cmd_prefix": "rm(",
     "library": "var_list.r",
     "varRefreshCmd": "cat(var_dic_list()) "
    }
   },
   "types_to_exclude": [
    "module",
    "function",
    "builtin_function_or_method",
    "instance",
    "_Feature"
   ],
   "window_display": false
  }
 },
 "nbformat": 4,
 "nbformat_minor": 5
}
