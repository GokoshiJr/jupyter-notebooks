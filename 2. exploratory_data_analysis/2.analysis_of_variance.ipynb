{
 "cells": [
  {
   "cell_type": "code",
   "execution_count": 19,
   "id": "0ff8784f",
   "metadata": {
    "ExecuteTime": {
     "end_time": "2023-07-04T14:04:44.814472Z",
     "start_time": "2023-07-04T14:04:44.627394Z"
    }
   },
   "outputs": [],
   "source": [
    "import pandas as pd\n",
    "import numpy as np\n",
    "import matplotlib as plt\n",
    "import matplotlib.pyplot as pyplot\n",
    "from scipy import stats\n",
    "import seaborn as sns"
   ]
  },
  {
   "cell_type": "code",
   "execution_count": 3,
   "id": "b6c900ab",
   "metadata": {
    "ExecuteTime": {
     "end_time": "2023-07-04T13:58:08.562346Z",
     "start_time": "2023-07-04T13:58:08.538268Z"
    }
   },
   "outputs": [],
   "source": [
    "df = pd.read_csv(\"../data/clean_df.csv\")"
   ]
  },
  {
   "cell_type": "code",
   "execution_count": 4,
   "id": "7be524fa",
   "metadata": {
    "ExecuteTime": {
     "end_time": "2023-07-04T13:58:08.574721Z",
     "start_time": "2023-07-04T13:58:08.568429Z"
    }
   },
   "outputs": [],
   "source": [
    "# statistical comparison of groups\n",
    "# example: average price of different vehicle makes\n",
    "# how different categories of the make feature (categorical) has impact on the price"
   ]
  },
  {
   "cell_type": "code",
   "execution_count": 5,
   "id": "03dfa3c0",
   "metadata": {
    "ExecuteTime": {
     "end_time": "2023-07-04T13:58:08.589272Z",
     "start_time": "2023-07-04T13:58:08.581723Z"
    }
   },
   "outputs": [],
   "source": [
    "# anova\n",
    "# ANalysis Of VAriance \n",
    "# Why do we perform ANOVA?\n",
    "# - finding correlation between different groups of categorical variable\n",
    "# - what we obtain from ANOVA?\n",
    "# 1. F-test score: variation between sample group means divided by variantion within sample group\n",
    "# 2. p-value: confidence degree"
   ]
  },
  {
   "cell_type": "code",
   "execution_count": 6,
   "id": "8ee6a190",
   "metadata": {
    "ExecuteTime": {
     "end_time": "2023-07-04T13:58:08.622642Z",
     "start_time": "2023-07-04T13:58:08.594275Z"
    }
   },
   "outputs": [
    {
     "data": {
      "text/plain": [
       "F_onewayResult(statistic=0.19744030127462606, pvalue=0.6609478240622193)"
      ]
     },
     "execution_count": 6,
     "metadata": {},
     "output_type": "execute_result"
    }
   ],
   "source": [
    "df_anova = df[[\"make\", \"price\"]]\n",
    "df_grp_anova = df_anova.groupby([\"make\"])\n",
    "anova_results = stats.f_oneway(df_grp_anova.get_group(\"honda\")[\"price\"], df_grp_anova.get_group(\"subaru\")[\"price\"]) \n",
    "anova_results\n",
    "# the prices between hondas and subarus are not significantly diferent, \n",
    "# as the F-test score less than 1\n",
    "# and p-value is larger than 0.05"
   ]
  },
  {
   "cell_type": "code",
   "execution_count": 30,
   "id": "78afd154",
   "metadata": {
    "ExecuteTime": {
     "end_time": "2023-07-04T14:29:38.359023Z",
     "start_time": "2023-07-04T14:29:37.842639Z"
    }
   },
   "outputs": [
    {
     "data": {
      "text/plain": [
       "<Axes: >"
      ]
     },
     "execution_count": 30,
     "metadata": {},
     "output_type": "execute_result"
    },
    {
     "data": {
      "image/png": "[encoded data removed]",
      "text/plain": [
       "<Figure size 640x480 with 1 Axes>"
      ]
     },
     "metadata": {},
     "output_type": "display_data"
    }
   ],
   "source": [
    "df_anova.groupby([\"make\"], as_index=False).mean().plot(kind=\"bar\")"
   ]
  },
  {
   "cell_type": "code",
   "execution_count": 8,
   "id": "3650e574",
   "metadata": {
    "ExecuteTime": {
     "end_time": "2023-07-04T13:58:08.678803Z",
     "start_time": "2023-07-04T13:58:08.657852Z"
    }
   },
   "outputs": [
    {
     "data": {
      "text/plain": [
       "F_onewayResult(statistic=400.925870564337, pvalue=1.0586193512077865e-11)"
      ]
     },
     "execution_count": 8,
     "metadata": {},
     "output_type": "execute_result"
    }
   ],
   "source": [
    "anova_results_2 = stats.f_oneway(df_grp_anova.get_group(\"honda\")[\"price\"], df_grp_anova.get_group(\"jaguar\")[\"price\"]) \n",
    "anova_results_2\n",
    "# the prices between honda and jaguar are significantly differents\n",
    "# since the F-score is vary large F=401 \n",
    "# and p-value is above than 0.05\n",
    "# we can say that is a strong correlatuib between a categorical variable"
   ]
  }
 ],
 "metadata": {
  "kernelspec": {
   "display_name": "Python 3 (ipykernel)",
   "language": "python",
   "name": "python3"
  },
  "language_info": {
   "codemirror_mode": {
    "name": "ipython",
    "version": 3
   },
   "file_extension": ".py",
   "mimetype": "text/x-python",
   "name": "python",
   "nbconvert_exporter": "python",
   "pygments_lexer": "ipython3",
   "version": "3.11.2"
  },
  "varInspector": {
   "cols": {
    "lenName": 16,
    "lenType": 16,
    "lenVar": 40
   },
   "kernels_config": {
    "python": {
     "delete_cmd_postfix": "",
     "delete_cmd_prefix": "del ",
     "library": "var_list.py",
     "varRefreshCmd": "print(var_dic_list())"
    },
    "r": {
     "delete_cmd_postfix": ") ",
     "delete_cmd_prefix": "rm(",
     "library": "var_list.r",
     "varRefreshCmd": "cat(var_dic_list()) "
    }
   },
   "types_to_exclude": [
    "module",
    "function",
    "builtin_function_or_method",
    "instance",
    "_Feature"
   ],
   "window_display": false
  }
 },
 "nbformat": 4,
 "nbformat_minor": 5
}
