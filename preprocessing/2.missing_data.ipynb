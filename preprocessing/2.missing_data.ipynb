{
 "cells": [
  {
   "cell_type": "code",
   "execution_count": null,
   "id": "46ae896a",
   "metadata": {},
   "outputs": [],
   "source": [
    "# handling missing data\n",
    "\n",
    "# drop the missing values\n",
    "# - drop de variable\n",
    "# - drop the data entry\n",
    "\n",
    "# replace the missing values\n",
    "# - replace it with an average (of similar datapoints)\n",
    "# - replace it by frequency\n",
    "# - replace it based on other functions\n",
    "\n",
    "# leave it as missing data"
   ]
  },
  {
   "cell_type": "code",
   "execution_count": 1,
   "id": "8b3d7927",
   "metadata": {
    "ExecuteTime": {
     "end_time": "2023-06-30T13:29:34.489986Z",
     "start_time": "2023-06-30T13:29:32.524651Z"
    }
   },
   "outputs": [],
   "source": [
    "import pandas as pd\n",
    "import numpy as np"
   ]
  },
  {
   "cell_type": "code",
   "execution_count": 36,
   "id": "71e029ad",
   "metadata": {
    "ExecuteTime": {
     "end_time": "2023-06-30T13:37:44.514841Z",
     "start_time": "2023-06-30T13:37:44.496289Z"
    }
   },
   "outputs": [
    {
     "name": "stdout",
     "output_type": "stream",
     "text": [
      "159\n"
     ]
    }
   ],
   "source": [
    "df = pd.read_csv(\"automobile.csv\")\n",
    "\n",
    "df.dropna(axis=0, inplace=True) # inplace true, to modificate the df \n",
    "\n",
    "print(len(df))"
   ]
  },
  {
   "cell_type": "code",
   "execution_count": 39,
   "id": "5dd8cf26",
   "metadata": {
    "ExecuteTime": {
     "end_time": "2023-06-30T13:43:15.359242Z",
     "start_time": "2023-06-30T13:43:15.344996Z"
    }
   },
   "outputs": [
    {
     "data": {
      "text/plain": [
       "2      164.0\n",
       "3      164.0\n",
       "5      158.0\n",
       "7      158.0\n",
       "8      192.0\n",
       "       ...  \n",
       "195     95.0\n",
       "196     95.0\n",
       "197     95.0\n",
       "198     95.0\n",
       "199     95.0\n",
       "Name: normalized-losses, Length: 159, dtype: float64"
      ]
     },
     "execution_count": 39,
     "metadata": {},
     "output_type": "execute_result"
    }
   ],
   "source": [
    "mean = df[\"normalized-losses\"].mean()\n",
    "df[\"normalized-losses\"].replace(np.nan, mean)"
   ]
  }
 ],
 "metadata": {
  "kernelspec": {
   "display_name": "Python 3 (ipykernel)",
   "language": "python",
   "name": "python3"
  },
  "language_info": {
   "codemirror_mode": {
    "name": "ipython",
    "version": 3
   },
   "file_extension": ".py",
   "mimetype": "text/x-python",
   "name": "python",
   "nbconvert_exporter": "python",
   "pygments_lexer": "ipython3",
   "version": "3.11.3"
  },
  "varInspector": {
   "cols": {
    "lenName": 16,
    "lenType": 16,
    "lenVar": 40
   },
   "kernels_config": {
    "python": {
     "delete_cmd_postfix": "",
     "delete_cmd_prefix": "del ",
     "library": "var_list.py",
     "varRefreshCmd": "print(var_dic_list())"
    },
    "r": {
     "delete_cmd_postfix": ") ",
     "delete_cmd_prefix": "rm(",
     "library": "var_list.r",
     "varRefreshCmd": "cat(var_dic_list()) "
    }
   },
   "types_to_exclude": [
    "module",
    "function",
    "builtin_function_or_method",
    "instance",
    "_Feature"
   ],
   "window_display": false
  }
 },
 "nbformat": 4,
 "nbformat_minor": 5
}
