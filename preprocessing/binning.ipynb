{
 "cells": [
  {
   "cell_type": "code",
   "execution_count": null,
   "id": "2903f8a1",
   "metadata": {},
   "outputs": [],
   "source": [
    "# binnig: grouping of values into bins\n",
    "# converts numeric into categorical variables\n",
    "# group a set of numerical values into a set of bins"
   ]
  },
  {
   "cell_type": "code",
   "execution_count": 1,
   "id": "1155875f",
   "metadata": {
    "ExecuteTime": {
     "end_time": "2023-06-30T15:33:32.276061Z",
     "start_time": "2023-06-30T15:33:31.691439Z"
    }
   },
   "outputs": [],
   "source": [
    "import pandas as pd\n",
    "import numpy as np"
   ]
  },
  {
   "cell_type": "code",
   "execution_count": 4,
   "id": "ec2fbb81",
   "metadata": {
    "ExecuteTime": {
     "end_time": "2023-06-30T15:34:38.347448Z",
     "start_time": "2023-06-30T15:34:38.324574Z"
    }
   },
   "outputs": [
    {
     "data": {
      "text/plain": [
       "Index(['symboling', 'normalized-losses', 'make', 'fuel-type', 'aspiration',\n",
       "       'num-of-doors', 'body-style', 'drive-wheels', 'engine-location',\n",
       "       'wheel-base', 'length', 'width', 'height', 'curb-weight', 'engine-type',\n",
       "       'num-of-cylinders', 'engine-size', 'fuel-system', 'bore', 'stroke',\n",
       "       'compression-ratio', 'horsepower', 'peak-rpm', 'city-mpg',\n",
       "       'highway-mpg', 'price'],\n",
       "      dtype='object')"
      ]
     },
     "execution_count": 4,
     "metadata": {},
     "output_type": "execute_result"
    }
   ],
   "source": [
    "df = pd.read_csv(\"../data/automobile.csv\")\n",
    "df.columns"
   ]
  },
  {
   "cell_type": "code",
   "execution_count": 9,
   "id": "3747e648",
   "metadata": {
    "ExecuteTime": {
     "end_time": "2023-06-30T15:38:00.403612Z",
     "start_time": "2023-06-30T15:38:00.393365Z"
    }
   },
   "outputs": [
    {
     "data": {
      "text/plain": [
       "array([ 5118.        , 18545.33333333, 31972.66666667, 45400.        ])"
      ]
     },
     "execution_count": 9,
     "metadata": {},
     "output_type": "execute_result"
    }
   ],
   "source": [
    "bins = np.linspace(min(df[\"price\"]), max(df[\"price\"]), 4)\n",
    "bins"
   ]
  },
  {
   "cell_type": "code",
   "execution_count": 10,
   "id": "4eb2467f",
   "metadata": {
    "ExecuteTime": {
     "end_time": "2023-06-30T15:38:03.093674Z",
     "start_time": "2023-06-30T15:38:03.082214Z"
    }
   },
   "outputs": [],
   "source": [
    "group_names = [\"Low\", \"Medium\", \"High\"]\n",
    "# numeric to categorical\n",
    "df[\"price-binned\"] = pd.cut(df[\"price\"], bins, labels=group_names, include_lowest=True) # include low range"
   ]
  },
  {
   "cell_type": "code",
   "execution_count": null,
   "id": "c04cdb6b",
   "metadata": {},
   "outputs": [],
   "source": [
    "df.tail()"
   ]
  },
  {
   "cell_type": "code",
   "execution_count": 12,
   "id": "6473e736",
   "metadata": {
    "ExecuteTime": {
     "end_time": "2023-06-30T17:03:55.081676Z",
     "start_time": "2023-06-30T17:03:55.076125Z"
    }
   },
   "outputs": [],
   "source": [
    "# categorical to numeric\n"
   ]
  }
 ],
 "metadata": {
  "kernelspec": {
   "display_name": "Python 3 (ipykernel)",
   "language": "python",
   "name": "python3"
  },
  "language_info": {
   "codemirror_mode": {
    "name": "ipython",
    "version": 3
   },
   "file_extension": ".py",
   "mimetype": "text/x-python",
   "name": "python",
   "nbconvert_exporter": "python",
   "pygments_lexer": "ipython3",
   "version": "3.11.2"
  },
  "varInspector": {
   "cols": {
    "lenName": 16,
    "lenType": 16,
    "lenVar": 40
   },
   "kernels_config": {
    "python": {
     "delete_cmd_postfix": "",
     "delete_cmd_prefix": "del ",
     "library": "var_list.py",
     "varRefreshCmd": "print(var_dic_list())"
    },
    "r": {
     "delete_cmd_postfix": ") ",
     "delete_cmd_prefix": "rm(",
     "library": "var_list.r",
     "varRefreshCmd": "cat(var_dic_list()) "
    }
   },
   "types_to_exclude": [
    "module",
    "function",
    "builtin_function_or_method",
    "instance",
    "_Feature"
   ],
   "window_display": false
  }
 },
 "nbformat": 4,
 "nbformat_minor": 5
}
