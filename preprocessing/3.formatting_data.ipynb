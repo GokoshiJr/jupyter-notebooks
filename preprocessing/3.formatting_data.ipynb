{
 "cells": [
  {
   "cell_type": "code",
   "execution_count": 1,
   "id": "a4a8cd49",
   "metadata": {
    "ExecuteTime": {
     "end_time": "2023-06-30T14:06:33.868860Z",
     "start_time": "2023-06-30T14:06:33.313200Z"
    }
   },
   "outputs": [],
   "source": [
    "import pandas as pd\n",
    "import numpy as np"
   ]
  },
  {
   "cell_type": "code",
   "execution_count": 2,
   "id": "c8452802",
   "metadata": {
    "ExecuteTime": {
     "end_time": "2023-06-30T14:07:04.319191Z",
     "start_time": "2023-06-30T14:07:04.298363Z"
    }
   },
   "outputs": [],
   "source": [
    "df = pd.read_csv(\"automobile.csv\")"
   ]
  },
  {
   "cell_type": "code",
   "execution_count": 4,
   "id": "cc46b8ff",
   "metadata": {
    "ExecuteTime": {
     "end_time": "2023-06-30T14:08:14.596051Z",
     "start_time": "2023-06-30T14:08:14.579411Z"
    }
   },
   "outputs": [
    {
     "data": {
      "text/plain": [
       "Index(['symboling', 'normalized-losses', 'make', 'fuel-type', 'aspiration',\n",
       "       'num-of-doors', 'body-style', 'drive-wheels', 'engine-location',\n",
       "       'wheel-base', 'length', 'width', 'height', 'curb-weight', 'engine-type',\n",
       "       'num-of-cylinders', 'engine-size', 'fuel-system', 'bore', 'stroke',\n",
       "       'compression-ratio', 'horsepower', 'peak-rpm', 'city-mpg',\n",
       "       'highway-mpg', 'price'],\n",
       "      dtype='object')"
      ]
     },
     "execution_count": 4,
     "metadata": {},
     "output_type": "execute_result"
    }
   ],
   "source": [
    "df.columns"
   ]
  },
  {
   "cell_type": "code",
   "execution_count": 5,
   "id": "8bd3d962",
   "metadata": {
    "ExecuteTime": {
     "end_time": "2023-06-30T14:21:43.015703Z",
     "start_time": "2023-06-30T14:21:43.003249Z"
    }
   },
   "outputs": [],
   "source": [
    "# convert miles per galon in L/100km in car dataset\n",
    "df[\"city-mpg\"] = 235 / df[\"city-mpg\"]\n",
    "df.rename(columns={\"city-mpg\": \"city-L/100km\"}, inplace=True)"
   ]
  },
  {
   "cell_type": "code",
   "execution_count": 7,
   "id": "fe8fd664",
   "metadata": {
    "ExecuteTime": {
     "end_time": "2023-06-30T14:22:10.178469Z",
     "start_time": "2023-06-30T14:22:10.165282Z"
    }
   },
   "outputs": [
    {
     "data": {
      "text/plain": [
       "0    11.190476\n",
       "1    12.368421\n",
       "2     9.791667\n",
       "3    13.055556\n",
       "4    12.368421\n",
       "Name: city-L/100km, dtype: float64"
      ]
     },
     "execution_count": 7,
     "metadata": {},
     "output_type": "execute_result"
    }
   ],
   "source": [
    "df[\"city-L/100km\"].head()"
   ]
  },
  {
   "cell_type": "code",
   "execution_count": 10,
   "id": "32a710fc",
   "metadata": {
    "ExecuteTime": {
     "end_time": "2023-06-30T14:32:43.545701Z",
     "start_time": "2023-06-30T14:32:43.532454Z"
    }
   },
   "outputs": [
    {
     "data": {
      "text/plain": [
       "symboling              int64\n",
       "normalized-losses    float64\n",
       "make                  object\n",
       "fuel-type             object\n",
       "aspiration            object\n",
       "num-of-doors          object\n",
       "body-style            object\n",
       "drive-wheels          object\n",
       "engine-location       object\n",
       "wheel-base           float64\n",
       "length               float64\n",
       "width                float64\n",
       "height               float64\n",
       "curb-weight            int64\n",
       "engine-type           object\n",
       "num-of-cylinders      object\n",
       "engine-size            int64\n",
       "fuel-system           object\n",
       "bore                 float64\n",
       "stroke               float64\n",
       "compression-ratio    float64\n",
       "horsepower           float64\n",
       "peak-rpm             float64\n",
       "city-L/100km         float64\n",
       "highway-mpg            int64\n",
       "price                  int64\n",
       "dtype: object"
      ]
     },
     "execution_count": 10,
     "metadata": {},
     "output_type": "execute_result"
    }
   ],
   "source": [
    "# df[\"price\"] = df[\"price\"].astype(\"int\") change column type\n",
    "df.dtypes"
   ]
  }
 ],
 "metadata": {
  "kernelspec": {
   "display_name": "Python 3 (ipykernel)",
   "language": "python",
   "name": "python3"
  },
  "language_info": {
   "codemirror_mode": {
    "name": "ipython",
    "version": 3
   },
   "file_extension": ".py",
   "mimetype": "text/x-python",
   "name": "python",
   "nbconvert_exporter": "python",
   "pygments_lexer": "ipython3",
   "version": "3.11.2"
  },
  "varInspector": {
   "cols": {
    "lenName": 16,
    "lenType": 16,
    "lenVar": 40
   },
   "kernels_config": {
    "python": {
     "delete_cmd_postfix": "",
     "delete_cmd_prefix": "del ",
     "library": "var_list.py",
     "varRefreshCmd": "print(var_dic_list())"
    },
    "r": {
     "delete_cmd_postfix": ") ",
     "delete_cmd_prefix": "rm(",
     "library": "var_list.r",
     "varRefreshCmd": "cat(var_dic_list()) "
    }
   },
   "types_to_exclude": [
    "module",
    "function",
    "builtin_function_or_method",
    "instance",
    "_Feature"
   ],
   "window_display": false
  }
 },
 "nbformat": 4,
 "nbformat_minor": 5
}
